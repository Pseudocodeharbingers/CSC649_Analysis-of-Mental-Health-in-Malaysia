{
 "cells": [
  {
   "cell_type": "markdown",
   "metadata": {},
   "source": [
    "## Python library"
   ]
  },
  {
   "cell_type": "code",
   "execution_count": 1,
   "metadata": {},
   "outputs": [],
   "source": [
    "import matplotlib.pyplot as plt\n",
    "import numpy as np\n",
    "import pandas as pd\n",
    "from sklearn import datasets\n",
    "from sklearn.neighbors import KNeighborsClassifier\n",
    "from sklearn.preprocessing import LabelEncoder\n",
    "import sklearn.metrics as sm\n",
    "from sklearn.metrics import accuracy_score,confusion_matrix,classification_report\n",
    "from sklearn import metrics\n",
    "from collections import Counter\n",
    "%matplotlib inline"
   ]
  },
  {
   "cell_type": "markdown",
   "metadata": {},
   "source": [
    "## Data preparation & analysis"
   ]
  },
  {
   "cell_type": "code",
   "execution_count": 2,
   "metadata": {},
   "outputs": [
    {
     "data": {
      "text/html": [
       "<div>\n",
       "<style scoped>\n",
       "    .dataframe tbody tr th:only-of-type {\n",
       "        vertical-align: middle;\n",
       "    }\n",
       "\n",
       "    .dataframe tbody tr th {\n",
       "        vertical-align: top;\n",
       "    }\n",
       "\n",
       "    .dataframe thead th {\n",
       "        text-align: right;\n",
       "    }\n",
       "</style>\n",
       "<table border=\"1\" class=\"dataframe\">\n",
       "  <thead>\n",
       "    <tr style=\"text-align: right;\">\n",
       "      <th></th>\n",
       "      <th>Age</th>\n",
       "      <th>Gender</th>\n",
       "      <th>State</th>\n",
       "      <th>Education_level</th>\n",
       "      <th>Employment_status</th>\n",
       "      <th>Marital_status</th>\n",
       "      <th>Intake_sweet</th>\n",
       "      <th>Intake_salty</th>\n",
       "      <th>Intake_fruit</th>\n",
       "      <th>Intake_vegetables</th>\n",
       "      <th>Exercise</th>\n",
       "      <th>Early_symptoms</th>\n",
       "      <th>History_family</th>\n",
       "      <th>Class_label</th>\n",
       "    </tr>\n",
       "  </thead>\n",
       "  <tbody>\n",
       "    <tr>\n",
       "      <td>0</td>\n",
       "      <td>Adults: &gt; 20 years old</td>\n",
       "      <td>Female</td>\n",
       "      <td>W.P Kuala Lumpur</td>\n",
       "      <td>Post-secondary or tertiary (diploma, graduate,...</td>\n",
       "      <td>Others (Student / Pursuing further studies)</td>\n",
       "      <td>Single</td>\n",
       "      <td>Less often</td>\n",
       "      <td>Several times a week</td>\n",
       "      <td>Less often</td>\n",
       "      <td>Several times a week</td>\n",
       "      <td>Every day</td>\n",
       "      <td>Yes</td>\n",
       "      <td>No</td>\n",
       "      <td>No</td>\n",
       "    </tr>\n",
       "    <tr>\n",
       "      <td>1</td>\n",
       "      <td>Adults: &gt; 20 years old</td>\n",
       "      <td>Female</td>\n",
       "      <td>Selangor</td>\n",
       "      <td>Post-secondary or tertiary (diploma, graduate,...</td>\n",
       "      <td>Others (Student / Pursuing further studies)</td>\n",
       "      <td>Single</td>\n",
       "      <td>Several times a week</td>\n",
       "      <td>Several times a week</td>\n",
       "      <td>Several times a week</td>\n",
       "      <td>Several times a week</td>\n",
       "      <td>Never</td>\n",
       "      <td>Yes</td>\n",
       "      <td>No</td>\n",
       "      <td>No</td>\n",
       "    </tr>\n",
       "    <tr>\n",
       "      <td>2</td>\n",
       "      <td>Adults: &gt; 20 years old</td>\n",
       "      <td>Female</td>\n",
       "      <td>Selangor</td>\n",
       "      <td>Post-secondary or tertiary (diploma, graduate,...</td>\n",
       "      <td>Others (Student / Pursuing further studies)</td>\n",
       "      <td>Single</td>\n",
       "      <td>Several times a week</td>\n",
       "      <td>Several times a week</td>\n",
       "      <td>Once a day</td>\n",
       "      <td>Once a day</td>\n",
       "      <td>Every day</td>\n",
       "      <td>Yes</td>\n",
       "      <td>No</td>\n",
       "      <td>No</td>\n",
       "    </tr>\n",
       "    <tr>\n",
       "      <td>3</td>\n",
       "      <td>Adults: &gt; 20 years old</td>\n",
       "      <td>Male</td>\n",
       "      <td>Selangor</td>\n",
       "      <td>Post-secondary or tertiary (diploma, graduate,...</td>\n",
       "      <td>Others (Student / Pursuing further studies)</td>\n",
       "      <td>Single</td>\n",
       "      <td>Several times a day</td>\n",
       "      <td>Less often</td>\n",
       "      <td>Less often</td>\n",
       "      <td>Never</td>\n",
       "      <td>Occasionally</td>\n",
       "      <td>Yes</td>\n",
       "      <td>No</td>\n",
       "      <td>No</td>\n",
       "    </tr>\n",
       "    <tr>\n",
       "      <td>4</td>\n",
       "      <td>Adults: &gt; 20 years old</td>\n",
       "      <td>Male</td>\n",
       "      <td>Malacca</td>\n",
       "      <td>Post-secondary or tertiary (diploma, graduate,...</td>\n",
       "      <td>Seeking employment</td>\n",
       "      <td>Single</td>\n",
       "      <td>Once a day</td>\n",
       "      <td>Once a day</td>\n",
       "      <td>Once a day</td>\n",
       "      <td>Several times a day</td>\n",
       "      <td>Occasionally</td>\n",
       "      <td>I have never experienced any of the symptoms s...</td>\n",
       "      <td>No</td>\n",
       "      <td>No</td>\n",
       "    </tr>\n",
       "  </tbody>\n",
       "</table>\n",
       "</div>"
      ],
      "text/plain": [
       "                      Age  Gender             State  \\\n",
       "0  Adults: > 20 years old  Female  W.P Kuala Lumpur   \n",
       "1  Adults: > 20 years old  Female          Selangor   \n",
       "2  Adults: > 20 years old  Female          Selangor   \n",
       "3  Adults: > 20 years old    Male          Selangor   \n",
       "4  Adults: > 20 years old    Male           Malacca   \n",
       "\n",
       "                                     Education_level  \\\n",
       "0  Post-secondary or tertiary (diploma, graduate,...   \n",
       "1  Post-secondary or tertiary (diploma, graduate,...   \n",
       "2  Post-secondary or tertiary (diploma, graduate,...   \n",
       "3  Post-secondary or tertiary (diploma, graduate,...   \n",
       "4  Post-secondary or tertiary (diploma, graduate,...   \n",
       "\n",
       "                             Employment_status Marital_status  \\\n",
       "0  Others (Student / Pursuing further studies)         Single   \n",
       "1  Others (Student / Pursuing further studies)         Single   \n",
       "2  Others (Student / Pursuing further studies)         Single   \n",
       "3  Others (Student / Pursuing further studies)         Single   \n",
       "4                           Seeking employment         Single   \n",
       "\n",
       "           Intake_sweet          Intake_salty          Intake_fruit  \\\n",
       "0            Less often  Several times a week            Less often   \n",
       "1  Several times a week  Several times a week  Several times a week   \n",
       "2  Several times a week  Several times a week            Once a day   \n",
       "3   Several times a day            Less often            Less often   \n",
       "4            Once a day            Once a day            Once a day   \n",
       "\n",
       "      Intake_vegetables      Exercise  \\\n",
       "0  Several times a week     Every day   \n",
       "1  Several times a week         Never   \n",
       "2            Once a day     Every day   \n",
       "3                 Never  Occasionally   \n",
       "4   Several times a day  Occasionally   \n",
       "\n",
       "                                      Early_symptoms History_family  \\\n",
       "0                                                Yes             No   \n",
       "1                                                Yes             No   \n",
       "2                                                Yes             No   \n",
       "3                                                Yes             No   \n",
       "4  I have never experienced any of the symptoms s...             No   \n",
       "\n",
       "  Class_label  \n",
       "0          No  \n",
       "1          No  \n",
       "2          No  \n",
       "3          No  \n",
       "4          No  "
      ]
     },
     "execution_count": 2,
     "metadata": {},
     "output_type": "execute_result"
    }
   ],
   "source": [
    "# Load dataset\n",
    "df = pd.read_csv(\"TrainData.csv\") #Reading the dataset in a dataframe using Pandas\n",
    "df.head()"
   ]
  },
  {
   "cell_type": "markdown",
   "metadata": {},
   "source": [
    "<b> The code above is used for the collected data in data selection </b>"
   ]
  },
  {
   "cell_type": "code",
   "execution_count": 3,
   "metadata": {},
   "outputs": [
    {
     "data": {
      "text/plain": [
       "(401, 14)"
      ]
     },
     "execution_count": 3,
     "metadata": {},
     "output_type": "execute_result"
    }
   ],
   "source": [
    "df.shape"
   ]
  },
  {
   "cell_type": "markdown",
   "metadata": {},
   "source": [
    "<b> The data has 401 rows and 14 columns </b>"
   ]
  },
  {
   "cell_type": "code",
   "execution_count": 4,
   "metadata": {},
   "outputs": [
    {
     "name": "stdout",
     "output_type": "stream",
     "text": [
      "<class 'pandas.core.frame.DataFrame'>\n",
      "RangeIndex: 401 entries, 0 to 400\n",
      "Data columns (total 14 columns):\n",
      "Age                  400 non-null object\n",
      "Gender               400 non-null object\n",
      "State                399 non-null object\n",
      "Education_level      398 non-null object\n",
      "Employment_status    400 non-null object\n",
      "Marital_status       400 non-null object\n",
      "Intake_sweet         396 non-null object\n",
      "Intake_salty         396 non-null object\n",
      "Intake_fruit         398 non-null object\n",
      "Intake_vegetables    393 non-null object\n",
      "Exercise             399 non-null object\n",
      "Early_symptoms       398 non-null object\n",
      "History_family       398 non-null object\n",
      "Class_label          395 non-null object\n",
      "dtypes: object(14)\n",
      "memory usage: 44.0+ KB\n"
     ]
    }
   ],
   "source": [
    "df.info()"
   ]
  },
  {
   "cell_type": "markdown",
   "metadata": {},
   "source": [
    "<b> The attributes of the train dataset </b>"
   ]
  },
  {
   "cell_type": "code",
   "execution_count": 5,
   "metadata": {},
   "outputs": [
    {
     "data": {
      "text/plain": [
       "Adults: > 20 years old      342\n",
       "Teens: 13 – 19 years old     43\n",
       "Elderly: > 65 years old       9\n",
       "Children: 4-12 years old      6\n",
       "Name: Age, dtype: int64"
      ]
     },
     "execution_count": 5,
     "metadata": {},
     "output_type": "execute_result"
    }
   ],
   "source": [
    "df['Age'].value_counts()"
   ]
  },
  {
   "cell_type": "code",
   "execution_count": 6,
   "metadata": {},
   "outputs": [
    {
     "data": {
      "text/plain": [
       "Text(0.5, 1.0, 'Age and States of Respondents')"
      ]
     },
     "execution_count": 6,
     "metadata": {},
     "output_type": "execute_result"
    },
    {
     "data": {
      "image/png": "[encoded data removed]",
      "text/plain": [
       "<Figure size 1080x1080 with 2 Axes>"
      ]
     },
     "metadata": {},
     "output_type": "display_data"
    },
    {
     "data": {
      "image/png": "[encoded data removed]",
      "text/plain": [
       "<Figure size 432x288 with 1 Axes>"
      ]
     },
     "metadata": {
      "needs_background": "light"
     },
     "output_type": "display_data"
    }
   ],
   "source": [
    "colors = [\"#ff7f0e\",\"#1f77b4\",\"#d62728\", \"#8c564b\"]\n",
    "plt.subplot(2,1,1)\n",
    "df['Age'].value_counts().plot(kind='pie', figsize=(15,15),colors=colors, shadow=True)\n",
    "plt.title(\"Age of Respondents\")\n",
    "plt.legend([\"Adults\",\"Teens\",\"Elderly\",\"Children\"])\n",
    "\n",
    "plt.subplot(2,1,2)\n",
    "df['State'].value_counts().plot(kind='pie', figsize=(15,15),colors=colors, shadow=True)\n",
    "plt.title(\"State of Respondents\")\n",
    "\n",
    "temp3 = pd.crosstab(df['State'], df['Age'])\n",
    "temp3.plot(kind='bar', stacked=True, color=['red','yellow','green','blue'], grid=False)\n",
    "plt.title(\"Age and States of Respondents\")\n"
   ]
  },
  {
   "cell_type": "markdown",
   "metadata": {},
   "source": [
    "<b> The graph shows the states and age of respondents that answered the survey, from the graph it can be observed that most of the respondents are >20 years old adults and came from Selangor and Kedah </b>"
   ]
  },
  {
   "cell_type": "code",
   "execution_count": 7,
   "metadata": {},
   "outputs": [
    {
     "name": "stdout",
     "output_type": "stream",
     "text": [
      "Frequency Table for Gender of Respondents\n",
      "Male      187\n",
      "Female    213\n",
      "Name: Gender, dtype: int64\n",
      "\n",
      "Probility of getting mental disorder for each Gender class:\n",
      "        Class_label\n",
      "Gender             \n",
      "Female     0.706161\n",
      "Male       0.706522\n"
     ]
    }
   ],
   "source": [
    "temp1 = df['Gender'].value_counts(ascending=True)\n",
    "temp2 = df.pivot_table(values='Class_label',index=['Gender'],aggfunc=lambda x: x.map({'Yes':0,'No':1}).mean())\n",
    "print ('Frequency Table for Gender of Respondents') \n",
    "print (temp1)\n",
    "print ('\\nProbility of getting mental disorder for each Gender class:')\n",
    "print (temp2)"
   ]
  },
  {
   "cell_type": "markdown",
   "metadata": {},
   "source": [
    "<b> The total number of respondents is 187 males and 213 females for the training data, as seen above, both females and males are equally likely to experience mental disorder </b>"
   ]
  },
  {
   "cell_type": "code",
   "execution_count": 8,
   "metadata": {},
   "outputs": [
    {
     "data": {
      "text/plain": [
       "<matplotlib.axes._subplots.AxesSubplot at 0x22b84bc5788>"
      ]
     },
     "execution_count": 8,
     "metadata": {},
     "output_type": "execute_result"
    },
    {
     "data": {
      "image/png": "[encoded data removed]",
      "text/plain": [
       "<Figure size 432x288 with 1 Axes>"
      ]
     },
     "metadata": {
      "needs_background": "light"
     },
     "output_type": "display_data"
    }
   ],
   "source": [
    "x = pd.Series(temp2['Class_label'])\n",
    "plt.subplot(1,2,2)\n",
    "plt.xlabel('Gender')\n",
    "plt.ylabel('Probability of mental disorder')\n",
    "plt.title(\"Probability of mental disorder by gender\")\n",
    "x.plot(kind = 'bar',color=['Yellow','Green'])"
   ]
  },
  {
   "cell_type": "code",
   "execution_count": 9,
   "metadata": {},
   "outputs": [
    {
     "data": {
      "text/plain": [
       "<matplotlib.axes._subplots.AxesSubplot at 0x22b84753b08>"
      ]
     },
     "execution_count": 9,
     "metadata": {},
     "output_type": "execute_result"
    },
    {
     "data": {
      "image/png": "[encoded data removed]",
      "text/plain": [
       "<Figure size 432x288 with 1 Axes>"
      ]
     },
     "metadata": {
      "needs_background": "light"
     },
     "output_type": "display_data"
    }
   ],
   "source": [
    "temp3 = pd.crosstab(df['Gender'], df['Class_label'])\n",
    "temp3.plot(kind='bar', stacked=True, color=['red','blue'], grid=False)"
   ]
  },
  {
   "cell_type": "code",
   "execution_count": 10,
   "metadata": {},
   "outputs": [
    {
     "data": {
      "text/plain": [
       "<matplotlib.axes._subplots.AxesSubplot at 0x22b84be3ec8>"
      ]
     },
     "execution_count": 10,
     "metadata": {},
     "output_type": "execute_result"
    },
    {
     "data": {
      "image/png": "[encoded data removed]",
      "text/plain": [
       "<Figure size 1008x504 with 1 Axes>"
      ]
     },
     "metadata": {
      "needs_background": "light"
     },
     "output_type": "display_data"
    }
   ],
   "source": [
    "plt.figure(figsize=(14,7))\n",
    "plt.title(\"Respondents Count by Age\")\n",
    "df['Age'].hist(bins=10)"
   ]
  },
  {
   "cell_type": "markdown",
   "metadata": {},
   "source": [
    "<b> From the graph above, it is concluded that most of the respondents are adults with age >20 years old </b>"
   ]
  },
  {
   "cell_type": "code",
   "execution_count": 11,
   "metadata": {},
   "outputs": [
    {
     "data": {
      "text/plain": [
       "Text(0.5, 1.0, 'Marital Status of Respondents')"
      ]
     },
     "execution_count": 11,
     "metadata": {},
     "output_type": "execute_result"
    },
    {
     "data": {
      "image/png": "[encoded data removed]",
      "text/plain": [
       "<Figure size 432x288 with 1 Axes>"
      ]
     },
     "metadata": {
      "needs_background": "light"
     },
     "output_type": "display_data"
    }
   ],
   "source": [
    "temp3 = pd.crosstab(df['Marital_status'], df['Class_label'])\n",
    "temp3.plot(kind='bar', stacked=True, color=['red','blue'], grid=False)\n",
    "plt.title(\"Marital Status of Respondents\")"
   ]
  },
  {
   "cell_type": "markdown",
   "metadata": {},
   "source": [
    "<b> From the graph above, it can be observed that single people are more likely to experience mental disorders  </b>"
   ]
  },
  {
   "cell_type": "code",
   "execution_count": 12,
   "metadata": {},
   "outputs": [
    {
     "data": {
      "text/plain": [
       "Age                  1\n",
       "Gender               1\n",
       "State                2\n",
       "Education_level      3\n",
       "Employment_status    1\n",
       "Marital_status       1\n",
       "Intake_sweet         5\n",
       "Intake_salty         5\n",
       "Intake_fruit         3\n",
       "Intake_vegetables    8\n",
       "Exercise             2\n",
       "Early_symptoms       3\n",
       "History_family       3\n",
       "Class_label          6\n",
       "dtype: int64"
      ]
     },
     "execution_count": 12,
     "metadata": {},
     "output_type": "execute_result"
    }
   ],
   "source": [
    "# To report missing data\n",
    "df.apply(lambda x: sum(x.isnull()),axis=0)"
   ]
  },
  {
   "cell_type": "markdown",
   "metadata": {},
   "source": [
    "<b> From the above code, the missing data is identified </b>"
   ]
  },
  {
   "cell_type": "markdown",
   "metadata": {},
   "source": [
    "# Data Cleansing"
   ]
  },
  {
   "cell_type": "code",
   "execution_count": 13,
   "metadata": {},
   "outputs": [],
   "source": [
    "df['Age'].fillna(df['Age'].mode()[0], inplace=True)\n",
    "df['Gender'].fillna(df['Gender'].mode()[0], inplace=True)\n",
    "df['State'].fillna(df['State'].mode()[0], inplace=True)\n",
    "df['Education_level'].fillna(df['Education_level'].mode()[0], inplace=True)\n",
    "df['Employment_status'].fillna(df['Employment_status'].mode()[0], inplace=True)\n",
    "df['Marital_status'].fillna(df['Marital_status'].mode()[0], inplace=True)\n",
    "df['Intake_sweet'].fillna(df['Intake_sweet'].mode()[0], inplace=True)\n",
    "df['Intake_salty'].fillna(df['Intake_salty'].mode()[0], inplace=True)\n",
    "df['Intake_fruit'].fillna(df['Intake_fruit'].mode()[0], inplace=True)\n",
    "df['Intake_vegetables'].fillna(df['Intake_vegetables'].mode()[0], inplace=True)\n",
    "df['Exercise'].fillna(df['Exercise'].mode()[0], inplace=True)\n",
    "df['Early_symptoms'].fillna(df['Early_symptoms'].mode()[0], inplace=True)\n",
    "df['History_family'].fillna('No',inplace=True)\n",
    "df['Class_label'].fillna('No',inplace=True)"
   ]
  },
  {
   "cell_type": "code",
   "execution_count": 14,
   "metadata": {},
   "outputs": [
    {
     "data": {
      "text/plain": [
       "Age                  0\n",
       "Gender               0\n",
       "State                0\n",
       "Education_level      0\n",
       "Employment_status    0\n",
       "Marital_status       0\n",
       "Intake_sweet         0\n",
       "Intake_salty         0\n",
       "Intake_fruit         0\n",
       "Intake_vegetables    0\n",
       "Exercise             0\n",
       "Early_symptoms       0\n",
       "History_family       0\n",
       "Class_label          0\n",
       "dtype: int64"
      ]
     },
     "execution_count": 14,
     "metadata": {},
     "output_type": "execute_result"
    }
   ],
   "source": [
    "# Recheck missing data\n",
    "df.apply(lambda x: sum(x.isnull()),axis=0) "
   ]
  },
  {
   "cell_type": "markdown",
   "metadata": {},
   "source": [
    "# Data Transformation"
   ]
  },
  {
   "cell_type": "code",
   "execution_count": 15,
   "metadata": {},
   "outputs": [
    {
     "data": {
      "text/html": [
       "<div>\n",
       "<style scoped>\n",
       "    .dataframe tbody tr th:only-of-type {\n",
       "        vertical-align: middle;\n",
       "    }\n",
       "\n",
       "    .dataframe tbody tr th {\n",
       "        vertical-align: top;\n",
       "    }\n",
       "\n",
       "    .dataframe thead th {\n",
       "        text-align: right;\n",
       "    }\n",
       "</style>\n",
       "<table border=\"1\" class=\"dataframe\">\n",
       "  <thead>\n",
       "    <tr style=\"text-align: right;\">\n",
       "      <th></th>\n",
       "      <th>Age</th>\n",
       "      <th>Gender</th>\n",
       "      <th>State</th>\n",
       "      <th>Education_level</th>\n",
       "      <th>Employment_status</th>\n",
       "      <th>Marital_status</th>\n",
       "      <th>Intake_sweet</th>\n",
       "      <th>Intake_salty</th>\n",
       "      <th>Intake_fruit</th>\n",
       "      <th>Intake_vegetables</th>\n",
       "      <th>Exercise</th>\n",
       "      <th>Early_symptoms</th>\n",
       "      <th>History_family</th>\n",
       "      <th>Class_label</th>\n",
       "    </tr>\n",
       "  </thead>\n",
       "  <tbody>\n",
       "    <tr>\n",
       "      <td>0</td>\n",
       "      <td>0</td>\n",
       "      <td>0</td>\n",
       "      <td>13</td>\n",
       "      <td>1</td>\n",
       "      <td>1</td>\n",
       "      <td>3</td>\n",
       "      <td>0</td>\n",
       "      <td>4</td>\n",
       "      <td>0</td>\n",
       "      <td>4</td>\n",
       "      <td>2</td>\n",
       "      <td>1</td>\n",
       "      <td>0</td>\n",
       "      <td>0</td>\n",
       "    </tr>\n",
       "    <tr>\n",
       "      <td>1</td>\n",
       "      <td>0</td>\n",
       "      <td>0</td>\n",
       "      <td>11</td>\n",
       "      <td>1</td>\n",
       "      <td>1</td>\n",
       "      <td>3</td>\n",
       "      <td>4</td>\n",
       "      <td>4</td>\n",
       "      <td>4</td>\n",
       "      <td>4</td>\n",
       "      <td>3</td>\n",
       "      <td>1</td>\n",
       "      <td>0</td>\n",
       "      <td>0</td>\n",
       "    </tr>\n",
       "    <tr>\n",
       "      <td>2</td>\n",
       "      <td>0</td>\n",
       "      <td>0</td>\n",
       "      <td>11</td>\n",
       "      <td>1</td>\n",
       "      <td>1</td>\n",
       "      <td>3</td>\n",
       "      <td>4</td>\n",
       "      <td>4</td>\n",
       "      <td>2</td>\n",
       "      <td>2</td>\n",
       "      <td>2</td>\n",
       "      <td>1</td>\n",
       "      <td>0</td>\n",
       "      <td>0</td>\n",
       "    </tr>\n",
       "    <tr>\n",
       "      <td>3</td>\n",
       "      <td>0</td>\n",
       "      <td>1</td>\n",
       "      <td>11</td>\n",
       "      <td>1</td>\n",
       "      <td>1</td>\n",
       "      <td>3</td>\n",
       "      <td>3</td>\n",
       "      <td>0</td>\n",
       "      <td>0</td>\n",
       "      <td>1</td>\n",
       "      <td>4</td>\n",
       "      <td>1</td>\n",
       "      <td>0</td>\n",
       "      <td>0</td>\n",
       "    </tr>\n",
       "    <tr>\n",
       "      <td>4</td>\n",
       "      <td>0</td>\n",
       "      <td>1</td>\n",
       "      <td>3</td>\n",
       "      <td>1</td>\n",
       "      <td>2</td>\n",
       "      <td>3</td>\n",
       "      <td>2</td>\n",
       "      <td>2</td>\n",
       "      <td>2</td>\n",
       "      <td>3</td>\n",
       "      <td>4</td>\n",
       "      <td>0</td>\n",
       "      <td>0</td>\n",
       "      <td>0</td>\n",
       "    </tr>\n",
       "    <tr>\n",
       "      <td>...</td>\n",
       "      <td>...</td>\n",
       "      <td>...</td>\n",
       "      <td>...</td>\n",
       "      <td>...</td>\n",
       "      <td>...</td>\n",
       "      <td>...</td>\n",
       "      <td>...</td>\n",
       "      <td>...</td>\n",
       "      <td>...</td>\n",
       "      <td>...</td>\n",
       "      <td>...</td>\n",
       "      <td>...</td>\n",
       "      <td>...</td>\n",
       "      <td>...</td>\n",
       "    </tr>\n",
       "    <tr>\n",
       "      <td>395</td>\n",
       "      <td>0</td>\n",
       "      <td>1</td>\n",
       "      <td>5</td>\n",
       "      <td>1</td>\n",
       "      <td>1</td>\n",
       "      <td>3</td>\n",
       "      <td>3</td>\n",
       "      <td>3</td>\n",
       "      <td>4</td>\n",
       "      <td>4</td>\n",
       "      <td>5</td>\n",
       "      <td>1</td>\n",
       "      <td>0</td>\n",
       "      <td>1</td>\n",
       "    </tr>\n",
       "    <tr>\n",
       "      <td>396</td>\n",
       "      <td>0</td>\n",
       "      <td>0</td>\n",
       "      <td>11</td>\n",
       "      <td>1</td>\n",
       "      <td>0</td>\n",
       "      <td>1</td>\n",
       "      <td>3</td>\n",
       "      <td>2</td>\n",
       "      <td>4</td>\n",
       "      <td>4</td>\n",
       "      <td>5</td>\n",
       "      <td>0</td>\n",
       "      <td>1</td>\n",
       "      <td>0</td>\n",
       "    </tr>\n",
       "    <tr>\n",
       "      <td>397</td>\n",
       "      <td>0</td>\n",
       "      <td>1</td>\n",
       "      <td>5</td>\n",
       "      <td>1</td>\n",
       "      <td>4</td>\n",
       "      <td>1</td>\n",
       "      <td>3</td>\n",
       "      <td>3</td>\n",
       "      <td>2</td>\n",
       "      <td>2</td>\n",
       "      <td>0</td>\n",
       "      <td>0</td>\n",
       "      <td>0</td>\n",
       "      <td>0</td>\n",
       "    </tr>\n",
       "    <tr>\n",
       "      <td>398</td>\n",
       "      <td>0</td>\n",
       "      <td>1</td>\n",
       "      <td>13</td>\n",
       "      <td>1</td>\n",
       "      <td>0</td>\n",
       "      <td>1</td>\n",
       "      <td>2</td>\n",
       "      <td>2</td>\n",
       "      <td>2</td>\n",
       "      <td>4</td>\n",
       "      <td>5</td>\n",
       "      <td>1</td>\n",
       "      <td>1</td>\n",
       "      <td>1</td>\n",
       "    </tr>\n",
       "    <tr>\n",
       "      <td>399</td>\n",
       "      <td>2</td>\n",
       "      <td>1</td>\n",
       "      <td>4</td>\n",
       "      <td>1</td>\n",
       "      <td>0</td>\n",
       "      <td>1</td>\n",
       "      <td>0</td>\n",
       "      <td>0</td>\n",
       "      <td>4</td>\n",
       "      <td>2</td>\n",
       "      <td>5</td>\n",
       "      <td>0</td>\n",
       "      <td>0</td>\n",
       "      <td>0</td>\n",
       "    </tr>\n",
       "  </tbody>\n",
       "</table>\n",
       "<p>400 rows × 14 columns</p>\n",
       "</div>"
      ],
      "text/plain": [
       "     Age  Gender  State  Education_level  Employment_status  Marital_status  \\\n",
       "0      0       0     13                1                  1               3   \n",
       "1      0       0     11                1                  1               3   \n",
       "2      0       0     11                1                  1               3   \n",
       "3      0       1     11                1                  1               3   \n",
       "4      0       1      3                1                  2               3   \n",
       "..   ...     ...    ...              ...                ...             ...   \n",
       "395    0       1      5                1                  1               3   \n",
       "396    0       0     11                1                  0               1   \n",
       "397    0       1      5                1                  4               1   \n",
       "398    0       1     13                1                  0               1   \n",
       "399    2       1      4                1                  0               1   \n",
       "\n",
       "     Intake_sweet  Intake_salty  Intake_fruit  Intake_vegetables  Exercise  \\\n",
       "0               0             4             0                  4         2   \n",
       "1               4             4             4                  4         3   \n",
       "2               4             4             2                  2         2   \n",
       "3               3             0             0                  1         4   \n",
       "4               2             2             2                  3         4   \n",
       "..            ...           ...           ...                ...       ...   \n",
       "395             3             3             4                  4         5   \n",
       "396             3             2             4                  4         5   \n",
       "397             3             3             2                  2         0   \n",
       "398             2             2             2                  4         5   \n",
       "399             0             0             4                  2         5   \n",
       "\n",
       "     Early_symptoms  History_family  Class_label  \n",
       "0                 1               0            0  \n",
       "1                 1               0            0  \n",
       "2                 1               0            0  \n",
       "3                 1               0            0  \n",
       "4                 0               0            0  \n",
       "..              ...             ...          ...  \n",
       "395               1               0            1  \n",
       "396               0               1            0  \n",
       "397               0               0            0  \n",
       "398               1               1            1  \n",
       "399               0               0            0  \n",
       "\n",
       "[400 rows x 14 columns]"
      ]
     },
     "execution_count": 15,
     "metadata": {},
     "output_type": "execute_result"
    }
   ],
   "source": [
    "# Convert to numerical\n",
    "var_mod = ['Age','Gender','State','Education_level','Employment_status','Marital_status','Intake_sweet','Intake_salty','Intake_fruit','Intake_vegetables', 'Exercise','Early_symptoms','History_family','Class_label']\n",
    "le = LabelEncoder()\n",
    "for i in var_mod:\n",
    "    df[i] = le.fit_transform(df[i])\n",
    "df.dtypes\n",
    "df.head(400)"
   ]
  },
  {
   "cell_type": "code",
   "execution_count": 16,
   "metadata": {},
   "outputs": [
    {
     "data": {
      "text/html": [
       "<div>\n",
       "<style scoped>\n",
       "    .dataframe tbody tr th:only-of-type {\n",
       "        vertical-align: middle;\n",
       "    }\n",
       "\n",
       "    .dataframe tbody tr th {\n",
       "        vertical-align: top;\n",
       "    }\n",
       "\n",
       "    .dataframe thead th {\n",
       "        text-align: right;\n",
       "    }\n",
       "</style>\n",
       "<table border=\"1\" class=\"dataframe\">\n",
       "  <thead>\n",
       "    <tr style=\"text-align: right;\">\n",
       "      <th></th>\n",
       "      <th>Class_label</th>\n",
       "    </tr>\n",
       "  </thead>\n",
       "  <tbody>\n",
       "    <tr>\n",
       "      <td>0</td>\n",
       "      <td>0</td>\n",
       "    </tr>\n",
       "    <tr>\n",
       "      <td>1</td>\n",
       "      <td>0</td>\n",
       "    </tr>\n",
       "    <tr>\n",
       "      <td>2</td>\n",
       "      <td>0</td>\n",
       "    </tr>\n",
       "    <tr>\n",
       "      <td>3</td>\n",
       "      <td>0</td>\n",
       "    </tr>\n",
       "    <tr>\n",
       "      <td>4</td>\n",
       "      <td>0</td>\n",
       "    </tr>\n",
       "    <tr>\n",
       "      <td>...</td>\n",
       "      <td>...</td>\n",
       "    </tr>\n",
       "    <tr>\n",
       "      <td>396</td>\n",
       "      <td>0</td>\n",
       "    </tr>\n",
       "    <tr>\n",
       "      <td>397</td>\n",
       "      <td>0</td>\n",
       "    </tr>\n",
       "    <tr>\n",
       "      <td>398</td>\n",
       "      <td>1</td>\n",
       "    </tr>\n",
       "    <tr>\n",
       "      <td>399</td>\n",
       "      <td>0</td>\n",
       "    </tr>\n",
       "    <tr>\n",
       "      <td>400</td>\n",
       "      <td>0</td>\n",
       "    </tr>\n",
       "  </tbody>\n",
       "</table>\n",
       "<p>401 rows × 1 columns</p>\n",
       "</div>"
      ],
      "text/plain": [
       "     Class_label\n",
       "0              0\n",
       "1              0\n",
       "2              0\n",
       "3              0\n",
       "4              0\n",
       "..           ...\n",
       "396            0\n",
       "397            0\n",
       "398            1\n",
       "399            0\n",
       "400            0\n",
       "\n",
       "[401 rows x 1 columns]"
      ]
     },
     "execution_count": 16,
     "metadata": {},
     "output_type": "execute_result"
    }
   ],
   "source": [
    "df.iloc[:, 1:12]\n",
    "df.loc[:, ['Class_label']]"
   ]
  },
  {
   "cell_type": "code",
   "execution_count": 17,
   "metadata": {},
   "outputs": [
    {
     "data": {
      "text/plain": [
       "Text(0.5, 1.0, 'Status')"
      ]
     },
     "execution_count": 17,
     "metadata": {},
     "output_type": "execute_result"
    },
    {
     "data": {
      "image/png": "[encoded data removed]",
      "text/plain": [
       "<Figure size 1008x504 with 1 Axes>"
      ]
     },
     "metadata": {
      "needs_background": "light"
     },
     "output_type": "display_data"
    }
   ],
   "source": [
    "x = df.iloc[:, 1:12]\n",
    "y = df.loc[:, ['Class_label']]\n",
    "plt.figure(figsize=(14,7))\n",
    "colormap = np.array(['red', 'lime'])\n",
    "plt.subplot(2, 4, 2)\n",
    "plt.scatter(x.Employment_status, x.Marital_status, c=colormap[y.Class_label], s=10)\n",
    "plt.title('Status')"
   ]
  },
  {
   "cell_type": "markdown",
   "metadata": {},
   "source": [
    "# Modelling and Features Selection"
   ]
  },
  {
   "cell_type": "code",
   "execution_count": 18,
   "metadata": {},
   "outputs": [
    {
     "name": "stderr",
     "output_type": "stream",
     "text": [
      "C:\\Users\\User\\Anaconda3\\lib\\site-packages\\ipykernel_launcher.py:2: DataConversionWarning: A column-vector y was passed when a 1d array was expected. Please change the shape of y to (n_samples, ), for example using ravel().\n",
      "  \n"
     ]
    }
   ],
   "source": [
    "model = KNeighborsClassifier(algorithm='auto', leaf_size=10, metric='minkowski', metric_params=None, n_jobs=None, n_neighbors=2, p=2, weights='uniform')\n",
    "model.fit(x, y)\n",
    "yPred = model.predict(x)"
   ]
  },
  {
   "cell_type": "code",
   "execution_count": 19,
   "metadata": {},
   "outputs": [
    {
     "data": {
      "text/plain": [
       "Text(0.5, 1.0, 'Status: Real classification')"
      ]
     },
     "execution_count": 19,
     "metadata": {},
     "output_type": "execute_result"
    },
    {
     "data": {
      "image/png": "[encoded data removed]",
      "text/plain": [
       "<Figure size 1008x504 with 1 Axes>"
      ]
     },
     "metadata": {
      "needs_background": "light"
     },
     "output_type": "display_data"
    }
   ],
   "source": [
    "plt.figure(figsize=(14,7))\n",
    "colormap = np.array(['red', 'lime'])\n",
    "plt.subplot(2, 4, 2)\n",
    "plt.scatter(x.Employment_status, x.Marital_status, c=colormap[y.Class_label], s=10)\n",
    "plt.title('Status: Real classification')"
   ]
  },
  {
   "cell_type": "code",
   "execution_count": 20,
   "metadata": {},
   "outputs": [
    {
     "data": {
      "text/plain": [
       "Text(0.5, 1.0, 'Status: K-NN Classification')"
      ]
     },
     "execution_count": 20,
     "metadata": {},
     "output_type": "execute_result"
    },
    {
     "data": {
      "image/png": "[encoded data removed]",
      "text/plain": [
       "<Figure size 432x288 with 1 Axes>"
      ]
     },
     "metadata": {
      "needs_background": "light"
     },
     "output_type": "display_data"
    }
   ],
   "source": [
    "plt.subplot(1, 3, 3)\n",
    "plt.scatter(x.Employment_status, x.Marital_status, c=colormap[yPred], s=10)\n",
    "plt.title('Status: K-NN Classification')"
   ]
  },
  {
   "cell_type": "markdown",
   "metadata": {},
   "source": [
    "# Testing & performance analysis: Training data"
   ]
  },
  {
   "cell_type": "code",
   "execution_count": 21,
   "metadata": {},
   "outputs": [
    {
     "data": {
      "image/png": "[encoded data removed]",
      "text/plain": [
       "<Figure size 648x648 with 2 Axes>"
      ]
     },
     "metadata": {
      "needs_background": "light"
     },
     "output_type": "display_data"
    }
   ],
   "source": [
    "import seaborn as sns\n",
    "plt.figure(figsize=(9,9))\n",
    "sns.heatmap(sm.confusion_matrix(y, yPred), annot=True, fmt=\".3f\", linewidths=.5, square = True, cmap = 'PuRd_r');\n",
    "plt.ylabel('Actual label');\n",
    "plt.xlabel('Predicted label');\n",
    "all_sample_title = 'Accuracy Score: {0}'.format(sm.accuracy_score(y, yPred))\n",
    "plt.title(all_sample_title, size = 15);"
   ]
  },
  {
   "cell_type": "code",
   "execution_count": 22,
   "metadata": {},
   "outputs": [
    {
     "name": "stdout",
     "output_type": "stream",
     "text": [
      "              precision    recall  f1-score   support\n",
      "\n",
      "           0       0.79      1.00      0.88       285\n",
      "           1       0.98      0.35      0.52       116\n",
      "\n",
      "    accuracy                           0.81       401\n",
      "   macro avg       0.88      0.67      0.70       401\n",
      "weighted avg       0.84      0.81      0.78       401\n",
      "\n"
     ]
    }
   ],
   "source": [
    "print(classification_report(y,yPred))"
   ]
  },
  {
   "cell_type": "code",
   "execution_count": 23,
   "metadata": {},
   "outputs": [
    {
     "name": "stderr",
     "output_type": "stream",
     "text": [
      "C:\\Users\\User\\Anaconda3\\lib\\site-packages\\ipykernel_launcher.py:2: DataConversionWarning: A column-vector y was passed when a 1d array was expected. Please change the shape of y to (n_samples, ), for example using ravel().\n",
      "  \n"
     ]
    }
   ],
   "source": [
    "model = KNeighborsClassifier(algorithm='auto', leaf_size=10, metric='minkowski', metric_params=None, n_jobs=None, n_neighbors=3, p=2, weights='uniform')\n",
    "model.fit(x, y)\n",
    "yPred = model.predict(x)"
   ]
  },
  {
   "cell_type": "code",
   "execution_count": 24,
   "metadata": {},
   "outputs": [
    {
     "data": {
      "image/png": "[encoded data removed]",
      "text/plain": [
       "<Figure size 648x648 with 2 Axes>"
      ]
     },
     "metadata": {
      "needs_background": "light"
     },
     "output_type": "display_data"
    }
   ],
   "source": [
    "import seaborn as sns\n",
    "plt.figure(figsize=(9,9))\n",
    "sns.heatmap(sm.confusion_matrix(y, yPred), annot=True, fmt=\".3f\", linewidths=.5, square = True, cmap = 'PuRd_r');\n",
    "plt.ylabel('Actual label');\n",
    "plt.xlabel('Predicted label');\n",
    "all_sample_title = 'Accuracy Score: {0}'.format(sm.accuracy_score(y, yPred))\n",
    "plt.title(all_sample_title, size = 15);"
   ]
  },
  {
   "cell_type": "code",
   "execution_count": 25,
   "metadata": {},
   "outputs": [
    {
     "name": "stdout",
     "output_type": "stream",
     "text": [
      "              precision    recall  f1-score   support\n",
      "\n",
      "           0       0.84      0.93      0.88       285\n",
      "           1       0.76      0.56      0.64       116\n",
      "\n",
      "    accuracy                           0.82       401\n",
      "   macro avg       0.80      0.74      0.76       401\n",
      "weighted avg       0.81      0.82      0.81       401\n",
      "\n"
     ]
    }
   ],
   "source": [
    "print(classification_report(y,yPred))"
   ]
  },
  {
   "cell_type": "code",
   "execution_count": 26,
   "metadata": {},
   "outputs": [
    {
     "name": "stderr",
     "output_type": "stream",
     "text": [
      "C:\\Users\\User\\Anaconda3\\lib\\site-packages\\ipykernel_launcher.py:2: DataConversionWarning: A column-vector y was passed when a 1d array was expected. Please change the shape of y to (n_samples, ), for example using ravel().\n",
      "  \n"
     ]
    }
   ],
   "source": [
    "model = KNeighborsClassifier(algorithm='auto', leaf_size=10, metric='minkowski', metric_params=None, n_jobs=None, n_neighbors=4, p=2, weights='uniform')\n",
    "model.fit(x, y)\n",
    "yPred = model.predict(x)"
   ]
  },
  {
   "cell_type": "code",
   "execution_count": 27,
   "metadata": {},
   "outputs": [
    {
     "data": {
      "image/png": "[encoded data removed]",
      "text/plain": [
       "<Figure size 648x648 with 2 Axes>"
      ]
     },
     "metadata": {
      "needs_background": "light"
     },
     "output_type": "display_data"
    }
   ],
   "source": [
    "import seaborn as sns\n",
    "plt.figure(figsize=(9,9))\n",
    "sns.heatmap(sm.confusion_matrix(y, yPred), annot=True, fmt=\".3f\", linewidths=.5, square = True, cmap = 'PuRd_r');\n",
    "plt.ylabel('Actual label');\n",
    "plt.xlabel('Predicted label');\n",
    "all_sample_title = 'Accuracy Score: {0}'.format(sm.accuracy_score(y, yPred))\n",
    "plt.title(all_sample_title, size = 15);"
   ]
  },
  {
   "cell_type": "code",
   "execution_count": 28,
   "metadata": {},
   "outputs": [
    {
     "name": "stderr",
     "output_type": "stream",
     "text": [
      "C:\\Users\\User\\Anaconda3\\lib\\site-packages\\ipykernel_launcher.py:2: DataConversionWarning: A column-vector y was passed when a 1d array was expected. Please change the shape of y to (n_samples, ), for example using ravel().\n",
      "  \n"
     ]
    }
   ],
   "source": [
    "model = KNeighborsClassifier(algorithm='auto', leaf_size=10, metric='minkowski', metric_params=None, n_jobs=None, n_neighbors=2, p=2, weights='distance')\n",
    "model.fit(x, y)\n",
    "yPred = model.predict(x)"
   ]
  },
  {
   "cell_type": "code",
   "execution_count": 29,
   "metadata": {},
   "outputs": [
    {
     "data": {
      "text/plain": [
       "Text(0.5, 1.0, 'Status: K-NN Classification')"
      ]
     },
     "execution_count": 29,
     "metadata": {},
     "output_type": "execute_result"
    },
    {
     "data": {
      "image/png": "[encoded data removed]",
      "text/plain": [
       "<Figure size 1008x504 with 2 Axes>"
      ]
     },
     "metadata": {
      "needs_background": "light"
     },
     "output_type": "display_data"
    }
   ],
   "source": [
    "plt.figure(figsize=(14,7))\n",
    "colormap = np.array(['red', 'lime'])\n",
    "\n",
    "# Plot the Original Classifications\n",
    "plt.subplot(2, 4, 2)\n",
    "plt.scatter(x.Employment_status, x.Marital_status, c=colormap[y.Class_label], s=10)\n",
    "plt.title('Status: Real classification')\n",
    "\n",
    "# Plot the Models Classifications\n",
    "plt.subplot(2, 4, 3)\n",
    "plt.scatter(x.Employment_status, x.Marital_status, c=colormap[yPred], s=10)\n",
    "plt.title('Status: K-NN Classification')"
   ]
  },
  {
   "cell_type": "code",
   "execution_count": 30,
   "metadata": {},
   "outputs": [
    {
     "data": {
      "image/png": "[encoded data removed]",
      "text/plain": [
       "<Figure size 648x648 with 2 Axes>"
      ]
     },
     "metadata": {
      "needs_background": "light"
     },
     "output_type": "display_data"
    }
   ],
   "source": [
    "import seaborn as sns\n",
    "plt.figure(figsize=(9,9))\n",
    "sns.heatmap(sm.confusion_matrix(y, yPred), annot=True, fmt=\".3f\", linewidths=.5, square = True, cmap = 'PuRd_r');\n",
    "plt.ylabel('Actual label');\n",
    "plt.xlabel('Predicted label');\n",
    "all_sample_title = 'Accuracy Score: {0}'.format(sm.accuracy_score(y, yPred))\n",
    "plt.title(all_sample_title, size = 15);"
   ]
  },
  {
   "cell_type": "code",
   "execution_count": 31,
   "metadata": {},
   "outputs": [
    {
     "name": "stdout",
     "output_type": "stream",
     "text": [
      "              precision    recall  f1-score   support\n",
      "\n",
      "           0       0.97      1.00      0.98       285\n",
      "           1       0.99      0.93      0.96       116\n",
      "\n",
      "    accuracy                           0.98       401\n",
      "   macro avg       0.98      0.96      0.97       401\n",
      "weighted avg       0.98      0.98      0.98       401\n",
      "\n"
     ]
    }
   ],
   "source": [
    "print(classification_report(y,yPred))"
   ]
  },
  {
   "cell_type": "markdown",
   "metadata": {},
   "source": [
    "# Testing & performance analysis: Testing data"
   ]
  },
  {
   "cell_type": "code",
   "execution_count": 32,
   "metadata": {},
   "outputs": [
    {
     "data": {
      "text/html": [
       "<div>\n",
       "<style scoped>\n",
       "    .dataframe tbody tr th:only-of-type {\n",
       "        vertical-align: middle;\n",
       "    }\n",
       "\n",
       "    .dataframe tbody tr th {\n",
       "        vertical-align: top;\n",
       "    }\n",
       "\n",
       "    .dataframe thead th {\n",
       "        text-align: right;\n",
       "    }\n",
       "</style>\n",
       "<table border=\"1\" class=\"dataframe\">\n",
       "  <thead>\n",
       "    <tr style=\"text-align: right;\">\n",
       "      <th></th>\n",
       "      <th>Age</th>\n",
       "      <th>Gender</th>\n",
       "      <th>State</th>\n",
       "      <th>Education_level</th>\n",
       "      <th>Employment_status</th>\n",
       "      <th>Marital_status</th>\n",
       "      <th>Intake_sweet</th>\n",
       "      <th>Intake_salty</th>\n",
       "      <th>Intake_fruit</th>\n",
       "      <th>Intake_vegetables</th>\n",
       "      <th>Exercise</th>\n",
       "      <th>Early_symptoms</th>\n",
       "      <th>History_family</th>\n",
       "      <th>Class_label</th>\n",
       "    </tr>\n",
       "  </thead>\n",
       "  <tbody>\n",
       "    <tr>\n",
       "      <td>0</td>\n",
       "      <td>Adults: &gt; 20 years old</td>\n",
       "      <td>Female</td>\n",
       "      <td>Negeri Sembilan</td>\n",
       "      <td>Post-secondary or tertiary (diploma, graduate,...</td>\n",
       "      <td>Seeking employment</td>\n",
       "      <td>Married</td>\n",
       "      <td>Several times a day</td>\n",
       "      <td>Several times a week</td>\n",
       "      <td>Several times a week</td>\n",
       "      <td>Several times a day</td>\n",
       "      <td>Never</td>\n",
       "      <td>Yes</td>\n",
       "      <td>Yes</td>\n",
       "      <td>Yes</td>\n",
       "    </tr>\n",
       "    <tr>\n",
       "      <td>1</td>\n",
       "      <td>Adults: &gt; 20 years old</td>\n",
       "      <td>Female</td>\n",
       "      <td>Selangor</td>\n",
       "      <td>Post-secondary or tertiary (diploma, graduate,...</td>\n",
       "      <td>Full-time employment</td>\n",
       "      <td>Single</td>\n",
       "      <td>Several times a day</td>\n",
       "      <td>Never</td>\n",
       "      <td>Once a day</td>\n",
       "      <td>Several times a day</td>\n",
       "      <td>Once a week</td>\n",
       "      <td>Yes</td>\n",
       "      <td>No</td>\n",
       "      <td>No</td>\n",
       "    </tr>\n",
       "    <tr>\n",
       "      <td>2</td>\n",
       "      <td>Adults: &gt; 20 years old</td>\n",
       "      <td>Female</td>\n",
       "      <td>Selangor</td>\n",
       "      <td>Post-secondary or tertiary (diploma, graduate,...</td>\n",
       "      <td>Others (Student / Pursuing further studies)</td>\n",
       "      <td>Single</td>\n",
       "      <td>Several times a day</td>\n",
       "      <td>Several times a week</td>\n",
       "      <td>Several times a day</td>\n",
       "      <td>Several times a day</td>\n",
       "      <td>Never</td>\n",
       "      <td>Yes</td>\n",
       "      <td>No</td>\n",
       "      <td>No</td>\n",
       "    </tr>\n",
       "    <tr>\n",
       "      <td>3</td>\n",
       "      <td>Adults: &gt; 20 years old</td>\n",
       "      <td>Female</td>\n",
       "      <td>W.P Kuala Lumpur</td>\n",
       "      <td>Post-secondary or tertiary (diploma, graduate,...</td>\n",
       "      <td>Seeking employment</td>\n",
       "      <td>Married</td>\n",
       "      <td>Several times a week</td>\n",
       "      <td>Once a day</td>\n",
       "      <td>Several times a week</td>\n",
       "      <td>Several times a week</td>\n",
       "      <td>Once a week</td>\n",
       "      <td>Yes</td>\n",
       "      <td>No</td>\n",
       "      <td>Yes</td>\n",
       "    </tr>\n",
       "    <tr>\n",
       "      <td>4</td>\n",
       "      <td>Teens: 13 – 19 years old</td>\n",
       "      <td>Male</td>\n",
       "      <td>W.P Kuala Lumpur</td>\n",
       "      <td>Secondary</td>\n",
       "      <td>Others (Student / Pursuing further studies)</td>\n",
       "      <td>Single</td>\n",
       "      <td>Several times a day</td>\n",
       "      <td>Once a day</td>\n",
       "      <td>Several times a week</td>\n",
       "      <td>Several times a week</td>\n",
       "      <td>Once a week</td>\n",
       "      <td>Yes</td>\n",
       "      <td>No</td>\n",
       "      <td>No</td>\n",
       "    </tr>\n",
       "  </tbody>\n",
       "</table>\n",
       "</div>"
      ],
      "text/plain": [
       "                        Age  Gender             State  \\\n",
       "0    Adults: > 20 years old  Female   Negeri Sembilan   \n",
       "1    Adults: > 20 years old  Female          Selangor   \n",
       "2    Adults: > 20 years old  Female          Selangor   \n",
       "3    Adults: > 20 years old  Female  W.P Kuala Lumpur   \n",
       "4  Teens: 13 – 19 years old    Male  W.P Kuala Lumpur   \n",
       "\n",
       "                                     Education_level  \\\n",
       "0  Post-secondary or tertiary (diploma, graduate,...   \n",
       "1  Post-secondary or tertiary (diploma, graduate,...   \n",
       "2  Post-secondary or tertiary (diploma, graduate,...   \n",
       "3  Post-secondary or tertiary (diploma, graduate,...   \n",
       "4                                          Secondary   \n",
       "\n",
       "                             Employment_status Marital_status  \\\n",
       "0                           Seeking employment        Married   \n",
       "1                         Full-time employment         Single   \n",
       "2  Others (Student / Pursuing further studies)         Single   \n",
       "3                           Seeking employment        Married   \n",
       "4  Others (Student / Pursuing further studies)         Single   \n",
       "\n",
       "           Intake_sweet          Intake_salty          Intake_fruit  \\\n",
       "0   Several times a day  Several times a week  Several times a week   \n",
       "1   Several times a day                 Never            Once a day   \n",
       "2   Several times a day  Several times a week   Several times a day   \n",
       "3  Several times a week            Once a day  Several times a week   \n",
       "4   Several times a day            Once a day  Several times a week   \n",
       "\n",
       "      Intake_vegetables     Exercise Early_symptoms History_family Class_label  \n",
       "0   Several times a day        Never            Yes            Yes         Yes  \n",
       "1   Several times a day  Once a week            Yes             No          No  \n",
       "2   Several times a day        Never            Yes             No          No  \n",
       "3  Several times a week  Once a week            Yes             No         Yes  \n",
       "4  Several times a week  Once a week            Yes             No          No  "
      ]
     },
     "execution_count": 32,
     "metadata": {},
     "output_type": "execute_result"
    }
   ],
   "source": [
    "df2 = pd.read_csv(\"TestData.csv\")\n",
    "df2.head()"
   ]
  },
  {
   "cell_type": "code",
   "execution_count": 33,
   "metadata": {},
   "outputs": [
    {
     "name": "stdout",
     "output_type": "stream",
     "text": [
      "<class 'pandas.core.frame.DataFrame'>\n",
      "RangeIndex: 102 entries, 0 to 101\n",
      "Data columns (total 14 columns):\n",
      "Age                  102 non-null object\n",
      "Gender               102 non-null object\n",
      "State                101 non-null object\n",
      "Education_level      102 non-null object\n",
      "Employment_status    102 non-null object\n",
      "Marital_status       102 non-null object\n",
      "Intake_sweet         102 non-null object\n",
      "Intake_salty         101 non-null object\n",
      "Intake_fruit         102 non-null object\n",
      "Intake_vegetables    101 non-null object\n",
      "Exercise             102 non-null object\n",
      "Early_symptoms       101 non-null object\n",
      "History_family       102 non-null object\n",
      "Class_label          102 non-null object\n",
      "dtypes: object(14)\n",
      "memory usage: 11.3+ KB\n"
     ]
    }
   ],
   "source": [
    "df2.info()"
   ]
  },
  {
   "cell_type": "code",
   "execution_count": 34,
   "metadata": {},
   "outputs": [],
   "source": [
    "df2['Age'].fillna(df2['Age'].mode()[0], inplace=True)\n",
    "df2['Gender'].fillna(df2['Gender'].mode()[0], inplace=True)\n",
    "df2['State'].fillna(df2['State'].mode()[0], inplace=True)\n",
    "df2['Education_level'].fillna(df2['Education_level'].mode()[0], inplace=True)\n",
    "df2['Employment_status'].fillna(df2['Employment_status'].mode()[0], inplace=True)\n",
    "df2['Marital_status'].fillna(df2['Marital_status'].mode()[0], inplace=True)\n",
    "df2['Intake_sweet'].fillna(df2['Intake_sweet'].mode()[0], inplace=True)\n",
    "df2['Intake_salty'].fillna(df2['Intake_salty'].mode()[0], inplace=True)\n",
    "df2['Intake_fruit'].fillna(df2['Intake_fruit'].mode()[0], inplace=True)\n",
    "df2['Intake_vegetables'].fillna(df2['Intake_vegetables'].mode()[0], inplace=True)\n",
    "df2['Exercise'].fillna(df2['Exercise'].mode()[0], inplace=True)\n",
    "df2['Early_symptoms'].fillna(df2['Early_symptoms'].mode()[0], inplace=True)\n",
    "df2['History_family'].fillna('No',inplace=True)\n",
    "df2['Class_label'].fillna('No',inplace=True)"
   ]
  },
  {
   "cell_type": "code",
   "execution_count": 35,
   "metadata": {},
   "outputs": [
    {
     "name": "stdout",
     "output_type": "stream",
     "text": [
      "<class 'pandas.core.frame.DataFrame'>\n",
      "RangeIndex: 102 entries, 0 to 101\n",
      "Data columns (total 14 columns):\n",
      "Age                  102 non-null object\n",
      "Gender               102 non-null object\n",
      "State                102 non-null object\n",
      "Education_level      102 non-null object\n",
      "Employment_status    102 non-null object\n",
      "Marital_status       102 non-null object\n",
      "Intake_sweet         102 non-null object\n",
      "Intake_salty         102 non-null object\n",
      "Intake_fruit         102 non-null object\n",
      "Intake_vegetables    102 non-null object\n",
      "Exercise             102 non-null object\n",
      "Early_symptoms       102 non-null object\n",
      "History_family       102 non-null object\n",
      "Class_label          102 non-null object\n",
      "dtypes: object(14)\n",
      "memory usage: 11.3+ KB\n"
     ]
    }
   ],
   "source": [
    "df2.info()"
   ]
  },
  {
   "cell_type": "code",
   "execution_count": 36,
   "metadata": {},
   "outputs": [
    {
     "data": {
      "text/html": [
       "<div>\n",
       "<style scoped>\n",
       "    .dataframe tbody tr th:only-of-type {\n",
       "        vertical-align: middle;\n",
       "    }\n",
       "\n",
       "    .dataframe tbody tr th {\n",
       "        vertical-align: top;\n",
       "    }\n",
       "\n",
       "    .dataframe thead th {\n",
       "        text-align: right;\n",
       "    }\n",
       "</style>\n",
       "<table border=\"1\" class=\"dataframe\">\n",
       "  <thead>\n",
       "    <tr style=\"text-align: right;\">\n",
       "      <th></th>\n",
       "      <th>Age</th>\n",
       "      <th>Gender</th>\n",
       "      <th>State</th>\n",
       "      <th>Education_level</th>\n",
       "      <th>Employment_status</th>\n",
       "      <th>Marital_status</th>\n",
       "      <th>Intake_sweet</th>\n",
       "      <th>Intake_salty</th>\n",
       "      <th>Intake_fruit</th>\n",
       "      <th>Intake_vegetables</th>\n",
       "      <th>Exercise</th>\n",
       "      <th>Early_symptoms</th>\n",
       "      <th>History_family</th>\n",
       "      <th>Class_label</th>\n",
       "    </tr>\n",
       "  </thead>\n",
       "  <tbody>\n",
       "    <tr>\n",
       "      <td>0</td>\n",
       "      <td>0</td>\n",
       "      <td>0</td>\n",
       "      <td>4</td>\n",
       "      <td>0</td>\n",
       "      <td>2</td>\n",
       "      <td>1</td>\n",
       "      <td>2</td>\n",
       "      <td>4</td>\n",
       "      <td>4</td>\n",
       "      <td>3</td>\n",
       "      <td>3</td>\n",
       "      <td>1</td>\n",
       "      <td>1</td>\n",
       "      <td>1</td>\n",
       "    </tr>\n",
       "    <tr>\n",
       "      <td>1</td>\n",
       "      <td>0</td>\n",
       "      <td>0</td>\n",
       "      <td>10</td>\n",
       "      <td>0</td>\n",
       "      <td>0</td>\n",
       "      <td>3</td>\n",
       "      <td>2</td>\n",
       "      <td>1</td>\n",
       "      <td>2</td>\n",
       "      <td>3</td>\n",
       "      <td>4</td>\n",
       "      <td>1</td>\n",
       "      <td>0</td>\n",
       "      <td>0</td>\n",
       "    </tr>\n",
       "    <tr>\n",
       "      <td>2</td>\n",
       "      <td>0</td>\n",
       "      <td>0</td>\n",
       "      <td>10</td>\n",
       "      <td>0</td>\n",
       "      <td>1</td>\n",
       "      <td>3</td>\n",
       "      <td>2</td>\n",
       "      <td>4</td>\n",
       "      <td>3</td>\n",
       "      <td>3</td>\n",
       "      <td>3</td>\n",
       "      <td>1</td>\n",
       "      <td>0</td>\n",
       "      <td>0</td>\n",
       "    </tr>\n",
       "    <tr>\n",
       "      <td>3</td>\n",
       "      <td>0</td>\n",
       "      <td>0</td>\n",
       "      <td>12</td>\n",
       "      <td>0</td>\n",
       "      <td>2</td>\n",
       "      <td>1</td>\n",
       "      <td>3</td>\n",
       "      <td>2</td>\n",
       "      <td>4</td>\n",
       "      <td>4</td>\n",
       "      <td>4</td>\n",
       "      <td>1</td>\n",
       "      <td>0</td>\n",
       "      <td>1</td>\n",
       "    </tr>\n",
       "    <tr>\n",
       "      <td>4</td>\n",
       "      <td>3</td>\n",
       "      <td>1</td>\n",
       "      <td>12</td>\n",
       "      <td>2</td>\n",
       "      <td>1</td>\n",
       "      <td>3</td>\n",
       "      <td>2</td>\n",
       "      <td>2</td>\n",
       "      <td>4</td>\n",
       "      <td>4</td>\n",
       "      <td>4</td>\n",
       "      <td>1</td>\n",
       "      <td>0</td>\n",
       "      <td>0</td>\n",
       "    </tr>\n",
       "  </tbody>\n",
       "</table>\n",
       "</div>"
      ],
      "text/plain": [
       "   Age  Gender  State  Education_level  Employment_status  Marital_status  \\\n",
       "0    0       0      4                0                  2               1   \n",
       "1    0       0     10                0                  0               3   \n",
       "2    0       0     10                0                  1               3   \n",
       "3    0       0     12                0                  2               1   \n",
       "4    3       1     12                2                  1               3   \n",
       "\n",
       "   Intake_sweet  Intake_salty  Intake_fruit  Intake_vegetables  Exercise  \\\n",
       "0             2             4             4                  3         3   \n",
       "1             2             1             2                  3         4   \n",
       "2             2             4             3                  3         3   \n",
       "3             3             2             4                  4         4   \n",
       "4             2             2             4                  4         4   \n",
       "\n",
       "   Early_symptoms  History_family  Class_label  \n",
       "0               1               1            1  \n",
       "1               1               0            0  \n",
       "2               1               0            0  \n",
       "3               1               0            1  \n",
       "4               1               0            0  "
      ]
     },
     "execution_count": 36,
     "metadata": {},
     "output_type": "execute_result"
    }
   ],
   "source": [
    "var_mod2 = ['Age','Gender','State','Education_level','Employment_status','Marital_status','Intake_sweet','Intake_salty','Intake_fruit','Intake_vegetables', 'Exercise','Early_symptoms','History_family','Class_label']\n",
    "le2 = LabelEncoder()\n",
    "for i in var_mod2:\n",
    "    df2[i] = le2.fit_transform(df2[i])\n",
    "df2.dtypes\n",
    "df2.head()"
   ]
  },
  {
   "cell_type": "code",
   "execution_count": 37,
   "metadata": {},
   "outputs": [],
   "source": [
    "x2 = df2.iloc[:, 1:12]\n",
    "y2 = df2.loc[:, ['Class_label']]\n",
    "yPred2 = model.predict(x2)"
   ]
  },
  {
   "cell_type": "code",
   "execution_count": 38,
   "metadata": {},
   "outputs": [
    {
     "data": {
      "text/plain": [
       "Text(0.5, 1.0, 'Status: K-NN Classification')"
      ]
     },
     "execution_count": 38,
     "metadata": {},
     "output_type": "execute_result"
    },
    {
     "data": {
      "image/png": "[encoded data removed]",
      "text/plain": [
       "<Figure size 1008x504 with 2 Axes>"
      ]
     },
     "metadata": {
      "needs_background": "light"
     },
     "output_type": "display_data"
    }
   ],
   "source": [
    "plt.figure(figsize=(14,7))\n",
    "colormap = np.array(['red', 'lime'])\n",
    "\n",
    "# Plot the Original Classifications\n",
    "plt.subplot(2, 4, 2)\n",
    "plt.scatter(x2.Employment_status, x2.Marital_status, c=colormap[y2.Class_label], s=10)\n",
    "plt.title('Status: Real classification')\n",
    "\n",
    "# Plot the Models Classifications\n",
    "plt.subplot(2, 4, 3)\n",
    "plt.scatter(x2.Employment_status, x2.Marital_status, c=colormap[yPred2], s=10)\n",
    "plt.title('Status: K-NN Classification')\n"
   ]
  },
  {
   "cell_type": "code",
   "execution_count": 39,
   "metadata": {},
   "outputs": [
    {
     "data": {
      "image/png": "[encoded data removed]",
      "text/plain": [
       "<Figure size 648x648 with 2 Axes>"
      ]
     },
     "metadata": {
      "needs_background": "light"
     },
     "output_type": "display_data"
    }
   ],
   "source": [
    "import seaborn as sns\n",
    "plt.figure(figsize=(9,9))\n",
    "sns.heatmap(sm.confusion_matrix(y2, yPred2), annot=True, fmt=\".3f\", linewidths=.5, square = True, cmap = 'PuRd_r');\n",
    "plt.ylabel('Actual label');\n",
    "plt.xlabel('Predicted label');\n",
    "all_sample_title = 'Accuracy Score: {0}'.format(sm.accuracy_score(y2, yPred2))\n",
    "plt.title(all_sample_title, size = 15);"
   ]
  },
  {
   "cell_type": "code",
   "execution_count": 40,
   "metadata": {},
   "outputs": [
    {
     "name": "stdout",
     "output_type": "stream",
     "text": [
      "              precision    recall  f1-score   support\n",
      "\n",
      "           0       0.70      0.98      0.82        58\n",
      "           1       0.95      0.45      0.62        44\n",
      "\n",
      "    accuracy                           0.75       102\n",
      "   macro avg       0.83      0.72      0.72       102\n",
      "weighted avg       0.81      0.75      0.73       102\n",
      "\n"
     ]
    }
   ],
   "source": [
    "print(classification_report(y2,yPred2))"
   ]
  }
 ],
 "metadata": {
  "kernelspec": {
   "display_name": "Python 3",
   "language": "python",
   "name": "python3"
  },
  "language_info": {
   "codemirror_mode": {
    "name": "ipython",
    "version": 3
   },
   "file_extension": ".py",
   "mimetype": "text/x-python",
   "name": "python",
   "nbconvert_exporter": "python",
   "pygments_lexer": "ipython3",
   "version": "3.7.4"
  }
 },
 "nbformat": 4,
 "nbformat_minor": 2
}
